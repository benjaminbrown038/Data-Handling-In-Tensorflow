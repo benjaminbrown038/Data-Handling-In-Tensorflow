{
 "cells": [
  {
   "cell_type": "code",
   "execution_count": 1,
   "metadata": {},
   "outputs": [],
   "source": [
    "from PIL import Image\n",
    "import numpy as np \n",
    "import tensorflow \n",
    "import tensorflow.keras.preprocessing\n",
    "from tensorflow.keras.models import Sequential\n",
    "from tensorflow.keras.layers import Conv2D, MaxPool2D, Flatten\n",
    "\n",
    "\n",
    "# data paths \n",
    "image = 'mnist_png/training/0/1.png'\n",
    "training = 'mnist_png/training'\n",
    "testing = 'mnist_png/testing'\n",
    "\n",
    "\n",
    "def load_data(file_path):\n",
    "    file_path = Path(file_path)\n",
    "    stacked_data = np.concatenate((np.array([(Image.open(i)) for i in file_path])))\n",
    "    return stacked_data\n",
    "\n",
    "def Image_Data_Generator(file_path,**kwargs):\n",
    "    img = tensorflow.keras.preprocessing.image.ImageDataGenerator()\n",
    "    data = img.flow_from_directory(file_path,**kwargs)\n",
    "    return data\n",
    "\n",
    "def image_to_array(image):\n",
    "    array = tensorflow.keras.preprocessing.image.img_to_array(image_to_array)\n",
    "    return array\n",
    "\n",
    "def array_to_image(array):\n",
    "    image = tensorflow.keras.preprocessing.image.array_to_img(image)\n",
    "    return image\n",
    "\n",
    "def keras_data_handling_independent(image_generator_object):\n",
    "    length = len(image_generator_object)\n",
    "    mini_batch = (image_generator_object[0][0].shape)[0]\n",
    "    list1 = []\n",
    "    for i in range(length):\n",
    "        for j in range(mini_batch):\n",
    "            new_array = image_generator_object[i][0][j]\n",
    "            array = np.expand_dims(new_array,axis=0)\n",
    "            list1.append(array)\n",
    "    data = np.concatenate(list1)\n",
    "    return data\n",
    "\n",
    "def keras_data_handling_dependent(image_generator_object):\n",
    "    length = len(image_generator_object)\n",
    "    mini_batch = (image_generator_object[0][0].shape)[0]\n",
    "    list1 = []\n",
    "    for i in range(length):\n",
    "        for j in range(mini_batch):\n",
    "            new_array = image_generator_object[i][0][j]\n",
    "            array = np.expand_dims(new_array,axis=0)\n",
    "            list1.append(array)\n",
    "    data = np.concatenate(list1)\n",
    "    return data\n",
    "\n"
   ]
  },
  {
   "cell_type": "code",
   "execution_count": null,
   "metadata": {},
   "outputs": [],
   "source": []
  },
  {
   "cell_type": "code",
   "execution_count": null,
   "metadata": {},
   "outputs": [],
   "source": []
  },
  {
   "cell_type": "code",
   "execution_count": null,
   "metadata": {},
   "outputs": [],
   "source": []
  },
  {
   "cell_type": "code",
   "execution_count": null,
   "metadata": {},
   "outputs": [],
   "source": []
  },
  {
   "cell_type": "code",
   "execution_count": null,
   "metadata": {},
   "outputs": [],
   "source": []
  },
  {
   "cell_type": "code",
   "execution_count": null,
   "metadata": {},
   "outputs": [],
   "source": []
  },
  {
   "cell_type": "code",
   "execution_count": null,
   "metadata": {},
   "outputs": [],
   "source": []
  },
  {
   "cell_type": "code",
   "execution_count": null,
   "metadata": {},
   "outputs": [],
   "source": []
  },
  {
   "cell_type": "code",
   "execution_count": null,
   "metadata": {},
   "outputs": [],
   "source": []
  },
  {
   "cell_type": "code",
   "execution_count": null,
   "metadata": {},
   "outputs": [],
   "source": []
  },
  {
   "cell_type": "code",
   "execution_count": null,
   "metadata": {},
   "outputs": [],
   "source": []
  },
  {
   "cell_type": "code",
   "execution_count": null,
   "metadata": {},
   "outputs": [],
   "source": []
  },
  {
   "cell_type": "code",
   "execution_count": null,
   "metadata": {},
   "outputs": [],
   "source": []
  },
  {
   "cell_type": "code",
   "execution_count": null,
   "metadata": {},
   "outputs": [],
   "source": []
  },
  {
   "cell_type": "code",
   "execution_count": null,
   "metadata": {},
   "outputs": [],
   "source": []
  },
  {
   "cell_type": "code",
   "execution_count": null,
   "metadata": {},
   "outputs": [],
   "source": []
  }
 ],
 "metadata": {
  "kernelspec": {
   "display_name": "Python 3",
   "language": "python",
   "name": "python3"
  },
  "language_info": {
   "codemirror_mode": {
    "name": "ipython",
    "version": 3
   },
   "file_extension": ".py",
   "mimetype": "text/x-python",
   "name": "python",
   "nbconvert_exporter": "python",
   "pygments_lexer": "ipython3",
   "version": "3.6.8"
  }
 },
 "nbformat": 4,
 "nbformat_minor": 2
}
